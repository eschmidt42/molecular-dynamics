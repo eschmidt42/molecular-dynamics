{
 "cells": [
  {
   "cell_type": "markdown",
   "metadata": {},
   "source": [
    "# fcc and bcc Crystals"
   ]
  },
  {
   "cell_type": "markdown",
   "metadata": {},
   "source": [
    "Structure:\n",
    "1. create fcc unit cell\n",
    "2. create bcc unit cell\n",
    "3. create supercell\n",
    "4. sanity check neighbour distances"
   ]
  },
  {
   "cell_type": "markdown",
   "metadata": {},
   "source": [
    "TODOs:\n",
    "* sort out `box`, `box_size`, `box_vectors`\n",
    "* export code to dedicated crystal module / jl files"
   ]
  },
  {
   "cell_type": "code",
   "execution_count": null,
   "metadata": {},
   "outputs": [],
   "source": [
    "import Pkg"
   ]
  },
  {
   "cell_type": "code",
   "execution_count": null,
   "metadata": {
    "scrolled": true
   },
   "outputs": [],
   "source": [
    "Pkg.activate(\".\")"
   ]
  },
  {
   "cell_type": "code",
   "execution_count": null,
   "metadata": {},
   "outputs": [],
   "source": [
    "Pkg.status()"
   ]
  },
  {
   "cell_type": "code",
   "execution_count": null,
   "metadata": {
    "scrolled": true
   },
   "outputs": [],
   "source": [
    "using DataFrames\n",
    "using Molly\n",
    "using Plots\n",
    "using Test\n",
    "using LaTeXStrings\n",
    "using LinearAlgebra\n",
    "using SparseArrays"
   ]
  },
  {
   "cell_type": "markdown",
   "metadata": {},
   "source": [
    "## Creating Crystals"
   ]
  },
  {
   "cell_type": "code",
   "execution_count": null,
   "metadata": {},
   "outputs": [],
   "source": [
    "masses = Dict(\"V\" => 50.9415, \"Nb\" => 92.9064, \"Ta\" => 180.9479,\n",
    "              \"Cr\" => 51.996, \"Mo\" => 95.94, \"W\" => 183.85,\n",
    "              \"Fe\" => 55.847)"
   ]
  },
  {
   "cell_type": "markdown",
   "metadata": {},
   "source": [
    "### An atom"
   ]
  },
  {
   "cell_type": "code",
   "execution_count": null,
   "metadata": {},
   "outputs": [],
   "source": [
    "element = \"Fe\"\n",
    "Atom(name=element, mass=masses[element])"
   ]
  },
  {
   "cell_type": "markdown",
   "metadata": {},
   "source": [
    "## Synthesizing crystal unit cells"
   ]
  },
  {
   "cell_type": "markdown",
   "metadata": {},
   "source": [
    "Crystals are something fascinating. Defect free crystals are highly symmetric and can be reduced to so-called \"unit cells\", a cell which can be used by copying and shifting it to construct the entire crystal. So to sound impressive the crystal of multiple unit cells is called a supercell ¯\\\\\\_(ツ)\\_/¯.\n",
    "\n",
    "So in a first step we'll define how to create two common types of unit cells and then go on to synthesize a supercell."
   ]
  },
  {
   "cell_type": "code",
   "execution_count": null,
   "metadata": {},
   "outputs": [],
   "source": [
    "# Å\n",
    "bcc_lattice_constants = Dict(\n",
    "    \"V\" => 3.0399, \"Nb\" => 3.3008, \n",
    "    \"Ta\" => 3.3058, \"Cr\" => 2.8845, \"Mo\" => 3.1472, \n",
    "    \"W\" => 3.1652, \"Fe\" => 2.8665\n",
    ")"
   ]
  },
  {
   "cell_type": "markdown",
   "metadata": {},
   "source": [
    "### face centered cubic crystal"
   ]
  },
  {
   "cell_type": "code",
   "execution_count": null,
   "metadata": {},
   "outputs": [],
   "source": [
    "function make_fcc_unitcell(element::String;a::T=1) where T <:Real\n",
    "    coords = [[0 0 0],[1//2 1//2 0],\n",
    "        [1//2 0 1//2],[0 1//2 1//2]]\n",
    "    atoms = [Atom(name=element, mass=masses[element]) \n",
    "             for _ in coords]\n",
    "    box_size = Diagonal([a, a, a])\n",
    "    box_vectors = [1. 0. 0.; 0. 1. 0.; 0. 0. 1.]\n",
    "    box = box_vectors * box_size\n",
    "    coords = [v*box for v in coords]\n",
    "    return atoms, coords, box, box_size, box_vectors\n",
    "end"
   ]
  },
  {
   "cell_type": "code",
   "execution_count": null,
   "metadata": {},
   "outputs": [],
   "source": [
    "element = \"Fe\"\n",
    "a = bcc_lattice_constants[element]\n",
    "atoms, coords, box, box_size, box_vectors = make_fcc_unitcell(element, a=a)"
   ]
  },
  {
   "cell_type": "code",
   "execution_count": null,
   "metadata": {},
   "outputs": [],
   "source": [
    "function plot_crystal(atoms::Array, coords::Array; \n",
    "        default_color::String=\"blue\",\n",
    "        element_color_map::Dict=Dict{String,String}(),\n",
    "        default_size::T=50,\n",
    "        element_size_map::Dict=Dict{String,Any}()\n",
    "    ) where T <: Real\n",
    "    \n",
    "    elements = Set([atom.name for atom in atoms])\n",
    "    for element in elements\n",
    "        if !haskey(element_color_map, element)\n",
    "            element_color_map[element] = default_color\n",
    "        end\n",
    "        if !haskey(element_size_map, element)\n",
    "            element_size_map[element] = default_size\n",
    "        end\n",
    "    end\n",
    "    colors = [element_color_map[element] for element in elements]\n",
    "    sizes = [element_size_map[element] for element in elements]\n",
    "\n",
    "    x = [v[1] for v in coords]\n",
    "    y = [v[2] for v in coords]\n",
    "    z = [v[3] for v in coords]\n",
    "    return @gif for i in range(0, stop=2π, length=100)\n",
    "        scatter(x, y, z, camera=(10*(1+cos(i)),5),\n",
    "            markersize=sizes, legend=false, \n",
    "            color=colors, aspect_ratio=:equal,\n",
    "            xlabel=L\"x\", ylabel=L\"y\", zlabel=L\"z\",\n",
    "            title=string(length(atoms), \" atoms of: \", join(elements, \",\"))\n",
    "        )\n",
    "    end\n",
    "end"
   ]
  },
  {
   "cell_type": "code",
   "execution_count": null,
   "metadata": {},
   "outputs": [],
   "source": [
    "plot_crystal(atoms, coords, default_color=\"red\", default_size=50)"
   ]
  },
  {
   "cell_type": "markdown",
   "metadata": {},
   "source": [
    "### body centered cubic crystal"
   ]
  },
  {
   "cell_type": "code",
   "execution_count": null,
   "metadata": {},
   "outputs": [],
   "source": [
    "function make_bcc_unitcell(element::String;a::T=1) where T <:Real\n",
    "    coords =[[0 0 0], [.5 .5 .5]]\n",
    "    atoms = [Atom(name=element, mass=masses[element]) \n",
    "             for _ in coords]\n",
    "    box_size = Diagonal([a, a, a])\n",
    "    box_vectors = [1. 0. 0.; 0. 1. 0.; 0. 0. 1.]\n",
    "    box = box_vectors * box_size\n",
    "    coords = [v*box for v in coords]\n",
    "    return atoms, coords, box, box_size, box_vectors\n",
    "end"
   ]
  },
  {
   "cell_type": "code",
   "execution_count": null,
   "metadata": {},
   "outputs": [],
   "source": [
    "element = \"Fe\"\n",
    "a = bcc_lattice_constants[element]\n",
    "atoms, coords, box, box_size, box_vectors = make_bcc_unitcell(element, a=a)"
   ]
  },
  {
   "cell_type": "code",
   "execution_count": null,
   "metadata": {},
   "outputs": [],
   "source": [
    "plot_crystal(atoms, coords, default_size=50)"
   ]
  },
  {
   "cell_type": "code",
   "execution_count": null,
   "metadata": {},
   "outputs": [],
   "source": [
    "element = \"Fe\"\n",
    "a = bcc_lattice_constants[element]\n",
    "atoms, coords, box, box_size, box_vectors = make_fcc_unitcell(element, a=a)"
   ]
  },
  {
   "cell_type": "markdown",
   "metadata": {},
   "source": [
    "## Generating a supercell from a unit cell"
   ]
  },
  {
   "cell_type": "code",
   "execution_count": null,
   "metadata": {},
   "outputs": [],
   "source": [
    "function make_supercell(atoms::Array, coords::Array, \n",
    "        box::Array, box_size::Diagonal; nx::Int64=1, ny::Int64=1,\n",
    "        nz::Int64=1)\n",
    "    @assert (nx > 0) & (ny > 0) & (nz > 0) \n",
    "    sc_atoms = []\n",
    "    sc_coords = []\n",
    "    sc_box = box\n",
    "    sc_box_size = box_size * Diagonal([nx, ny, nz])\n",
    "    n_atoms = length(coords)\n",
    "    for i in 0:nx-1, j in 0:ny-1, k in 0:nz-1\n",
    "        push!(sc_atoms,atoms)\n",
    "        scale = Diagonal([i,j,k])\n",
    "        shift = sum(sc_box*scale, dims=1)\n",
    "        push!(sc_coords,[coords[l]+shift for l in 1:n_atoms])\n",
    "    end\n",
    "    sc_atoms = vcat(sc_atoms...)\n",
    "    sc_coords = vcat(sc_coords...)\n",
    "    return sc_atoms, sc_coords, sc_box, sc_box_size\n",
    "end"
   ]
  },
  {
   "cell_type": "code",
   "execution_count": null,
   "metadata": {},
   "outputs": [],
   "source": [
    "sc_atoms, sc_coords, sc_box, sc_box_size = make_supercell(atoms, coords, box, box_size, nx=3, ny=3,\n",
    "        nz=3);"
   ]
  },
  {
   "cell_type": "code",
   "execution_count": null,
   "metadata": {},
   "outputs": [],
   "source": [
    "plot_crystal(sc_atoms, sc_coords, default_size=10)"
   ]
  },
  {
   "cell_type": "code",
   "execution_count": null,
   "metadata": {},
   "outputs": [],
   "source": [
    "@assert length(sc_atoms) == length(sc_coords)"
   ]
  },
  {
   "cell_type": "code",
   "execution_count": null,
   "metadata": {},
   "outputs": [],
   "source": [
    "n_atoms = length(sc_atoms)"
   ]
  },
  {
   "cell_type": "markdown",
   "metadata": {},
   "source": [
    "Looks okay so far, let's move on."
   ]
  },
  {
   "cell_type": "markdown",
   "metadata": {},
   "source": [
    "## Sanity checking distances"
   ]
  },
  {
   "cell_type": "markdown",
   "metadata": {},
   "source": [
    "Let's define some minimal objects (`MinimalSimulationConfig`) so we can perform neighbour search in a similar way as is actually done for simulations, but without needing to define interactions."
   ]
  },
  {
   "cell_type": "code",
   "execution_count": null,
   "metadata": {},
   "outputs": [],
   "source": [
    "mutable struct MinimalSimulationConfig\n",
    "    atoms::Array\n",
    "    box_size::Float32\n",
    "    coords::Array\n",
    "    neighbours::Array{Tuple{Int64,Int64}}\n",
    "end"
   ]
  },
  {
   "cell_type": "code",
   "execution_count": null,
   "metadata": {},
   "outputs": [],
   "source": [
    "element = \"Fe\"\n",
    "a = 1 #bcc_lattice_constants[element]\n",
    "atoms, coords, box, box_size, box_vectors = make_fcc_unitcell(element, a=a)\n",
    "sc_atoms, sc_coords, sc_box, sc_box_size = make_supercell(atoms, coords, box, box_size, nx=3, ny=3,nz=3)\n",
    "n_atoms = length(sc_atoms);"
   ]
  },
  {
   "cell_type": "code",
   "execution_count": null,
   "metadata": {},
   "outputs": [],
   "source": [
    "initial_neighbours = Tuple{Int,Int}[]\n",
    "s = MinimalSimulationConfig(sc_atoms, sc_box_size[1,1], sc_coords, initial_neighbours);"
   ]
  },
  {
   "cell_type": "markdown",
   "metadata": {},
   "source": [
    "For each atom we need to know all its neighbours. "
   ]
  },
  {
   "cell_type": "code",
   "execution_count": null,
   "metadata": {},
   "outputs": [],
   "source": [
    "struct MyNeighbourFinder <: NeighbourFinder\n",
    "    nb_matrix::BitArray{2} # defines which atom pairs we'll be happy to check at all\n",
    "    n_steps::Int\n",
    "    dist_cutoff::Float32\n",
    "    rcut2::Float32\n",
    "end\n",
    "\n",
    "MyNeighbourFinder(nb_matrix, n_steps, dist_cutoff) = MyNeighbourFinder(nb_matrix, n_steps, dist_cutoff, dist_cutoff^2)"
   ]
  },
  {
   "cell_type": "code",
   "execution_count": null,
   "metadata": {},
   "outputs": [],
   "source": [
    "nb_matrix = trues(n_atoms,n_atoms)\n",
    "n_steps = 1\n",
    "dist_cutoff = 2 #*lattice_constants[element]"
   ]
  },
  {
   "cell_type": "code",
   "execution_count": null,
   "metadata": {},
   "outputs": [],
   "source": [
    "nf = MyNeighbourFinder(nb_matrix, n_steps, dist_cutoff)"
   ]
  },
  {
   "cell_type": "markdown",
   "metadata": {},
   "source": [
    "The basic neighbourhood search algorithm, returning the neighbour coords without modifying `s`"
   ]
  },
  {
   "cell_type": "code",
   "execution_count": null,
   "metadata": {},
   "outputs": [],
   "source": [
    "function simple_find_neighbours(s::MinimalSimulationConfig,\n",
    "        nf::MyNeighbourFinder, step_n::Int;\n",
    "        parallel::Bool=false, \n",
    "        x_shifts=[0], y_shifts=[0], z_shifts=[0] # factors by which the box will be shifted along each box vector\n",
    "    )\n",
    "    \n",
    "    !iszero(step_n % nf.n_steps) && return\n",
    "    neighbours = empty(s.neighbours)\n",
    "    for i in 1:length(s.coords)\n",
    "        ci = s.coords[i]\n",
    "        for j in 1:length(s.coords)\n",
    "            if i==j \n",
    "                continue\n",
    "            end\n",
    "            \n",
    "            r2 = sum(abs2, vector(ci, s.coords[j], s.box_size))\n",
    "            if r2 <= nf.rcut2 && nf.nb_matrix[j,i]\n",
    "                push!(neighbours, (i,j))\n",
    "            end                \n",
    "        end\n",
    "    end\n",
    "    return neighbours\n",
    "end"
   ]
  },
  {
   "cell_type": "markdown",
   "metadata": {},
   "source": [
    "### fcc"
   ]
  },
  {
   "cell_type": "code",
   "execution_count": null,
   "metadata": {
    "scrolled": true
   },
   "outputs": [],
   "source": [
    "idxs = simple_find_neighbours(s, nf, 1);"
   ]
  },
  {
   "cell_type": "code",
   "execution_count": null,
   "metadata": {
    "scrolled": true
   },
   "outputs": [],
   "source": [
    "rs = [sqrt(sum(abs2, vector(s.coords[i], s.coords[j], s.box_size)))\n",
    "    for (i,j) in idxs\n",
    "];"
   ]
  },
  {
   "cell_type": "code",
   "execution_count": null,
   "metadata": {},
   "outputs": [],
   "source": [
    "rs_df = sort(combine(groupby(DataFrame(\"distances\"=>rs),[:distances]), nrow=>:count), [:distances])"
   ]
  },
  {
   "cell_type": "code",
   "execution_count": null,
   "metadata": {},
   "outputs": [],
   "source": [
    "@assert rs_df.distances[1] ≈ sqrt(1^2+1^2)/2\n",
    "@assert rs_df.distances[2] ≈ 1\n",
    "@assert rs_df.distances[3] ≈ sqrt(1^2+(sqrt(2)/2)^2)\n",
    "@assert rs_df.distances[4] ≈ sqrt(1^2+1^2)\n",
    "@assert rs_df.distances[5] ≈ sqrt(3^2+1^2)/2"
   ]
  },
  {
   "cell_type": "code",
   "execution_count": null,
   "metadata": {},
   "outputs": [],
   "source": [
    "histogram(rs, xlabel=L\"r\", ylabel=\"Frequency\", \n",
    "    title=string(\"FCC: euclidan (periodic) distance distribution (rcut \",nf.dist_cutoff,\")\"),\n",
    "    bins=200,\n",
    ")"
   ]
  },
  {
   "cell_type": "markdown",
   "metadata": {},
   "source": [
    "### bcc"
   ]
  },
  {
   "cell_type": "markdown",
   "metadata": {},
   "source": [
    "The same as above but for bcc"
   ]
  },
  {
   "cell_type": "code",
   "execution_count": null,
   "metadata": {},
   "outputs": [],
   "source": [
    "element = \"Fe\"\n",
    "a = 1 #bcc_lattice_constants[element]\n",
    "atoms, coords, box, box_size, box_vectors = make_bcc_unitcell(element, a=a)\n",
    "sc_atoms, sc_coords, sc_box, sc_box_size = make_supercell(atoms, coords, box, box_size, nx=3, ny=3,nz=3)\n",
    "n_atoms = length(sc_atoms);"
   ]
  },
  {
   "cell_type": "code",
   "execution_count": null,
   "metadata": {},
   "outputs": [],
   "source": [
    "initial_neighbours = Tuple{Int,Int}[]\n",
    "s = MinimalSimulationConfig(sc_atoms, sc_box_size[1,1], sc_coords, initial_neighbours);"
   ]
  },
  {
   "cell_type": "code",
   "execution_count": null,
   "metadata": {},
   "outputs": [],
   "source": [
    "nb_matrix = trues(n_atoms,n_atoms)\n",
    "n_steps = 1\n",
    "dist_cutoff = 2 #*lattice_constants[element]"
   ]
  },
  {
   "cell_type": "code",
   "execution_count": null,
   "metadata": {},
   "outputs": [],
   "source": [
    "nf = MyNeighbourFinder(nb_matrix, n_steps, dist_cutoff)"
   ]
  },
  {
   "cell_type": "code",
   "execution_count": null,
   "metadata": {
    "scrolled": true
   },
   "outputs": [],
   "source": [
    "idxs = simple_find_neighbours(s, nf, 1);"
   ]
  },
  {
   "cell_type": "code",
   "execution_count": null,
   "metadata": {
    "scrolled": true
   },
   "outputs": [],
   "source": [
    "rs = [sqrt(sum(abs2, vector(s.coords[i], s.coords[j], s.box_size)))\n",
    "    for (i,j) in idxs\n",
    "];"
   ]
  },
  {
   "cell_type": "code",
   "execution_count": null,
   "metadata": {},
   "outputs": [],
   "source": [
    "rs_df = sort(combine(groupby(DataFrame(\"distances\"=>rs),[:distances]), nrow=>:count), [:distances])"
   ]
  },
  {
   "cell_type": "code",
   "execution_count": null,
   "metadata": {},
   "outputs": [],
   "source": [
    "@assert rs_df.distances[1] ≈ sqrt((sqrt(2)/2)^2 + 1/2^2)\n",
    "@assert rs_df.distances[2] ≈ 1\n",
    "@assert rs_df.distances[3] ≈ sqrt(2)\n",
    "@assert rs_df.distances[4] ≈ sqrt((sqrt(2)/2)^2 + (3/2)^2)\n",
    "@assert rs_df.distances[5] ≈ sqrt(sqrt(2)^2 + 1^2)"
   ]
  },
  {
   "cell_type": "code",
   "execution_count": null,
   "metadata": {},
   "outputs": [],
   "source": [
    "histogram(rs, xlabel=L\"r\", ylabel=\"Frequency\", \n",
    "    title=string(\"BCC: euclidan (periodic) distance distribution (rcut \",nf.dist_cutoff,\")\"),\n",
    "    bins=200,\n",
    ")"
   ]
  }
 ],
 "metadata": {
  "kernelspec": {
   "display_name": "Julia 1.5.3",
   "language": "julia",
   "name": "julia-1.5"
  },
  "language_info": {
   "file_extension": ".jl",
   "mimetype": "application/julia",
   "name": "julia",
   "version": "1.5.3"
  },
  "toc": {
   "base_numbering": 1,
   "nav_menu": {
    "height": "167px",
    "width": "309px"
   },
   "number_sections": true,
   "sideBar": true,
   "skip_h1_title": false,
   "title_cell": "Table of Contents",
   "title_sidebar": "Contents",
   "toc_cell": false,
   "toc_position": {},
   "toc_section_display": true,
   "toc_window_display": false
  }
 },
 "nbformat": 4,
 "nbformat_minor": 4
}
