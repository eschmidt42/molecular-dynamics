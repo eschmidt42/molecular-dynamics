{
 "cells": [
  {
   "cell_type": "markdown",
   "metadata": {},
   "source": [
    "# The Finnis-Sinclair potential"
   ]
  },
  {
   "cell_type": "markdown",
   "metadata": {},
   "source": [
    "Structure:\n",
    "1. Computing Finnis-Sinclair forces\n",
    "2. Computing Finnis-Sinclair potential energies"
   ]
  },
  {
   "cell_type": "markdown",
   "metadata": {},
   "source": [
    "TODOs:\n",
    "* test forces for all potentials using perfect crystals and crystals with a vacancy\n",
    "* add tests for potential energy values for each structure\n",
    "* other force implementation that does not require altering `function accelerations`?"
   ]
  },
  {
   "cell_type": "code",
   "execution_count": null,
   "metadata": {},
   "outputs": [],
   "source": [
    "import Pkg"
   ]
  },
  {
   "cell_type": "code",
   "execution_count": null,
   "metadata": {
    "scrolled": true
   },
   "outputs": [],
   "source": [
    "Pkg.activate(\".\")"
   ]
  },
  {
   "cell_type": "code",
   "execution_count": null,
   "metadata": {},
   "outputs": [],
   "source": [
    "Pkg.status()"
   ]
  },
  {
   "cell_type": "code",
   "execution_count": null,
   "metadata": {
    "scrolled": true
   },
   "outputs": [],
   "source": [
    "using DataFrames\n",
    "using Molly\n",
    "using Plots\n",
    "using Test\n",
    "using LaTeXStrings\n",
    "using LinearAlgebra\n",
    "using SparseArrays\n",
    "using Crystal"
   ]
  },
  {
   "cell_type": "markdown",
   "metadata": {},
   "source": [
    "## Parameterisation of V, Nb, Ta, Cr, Mo, W, Fe"
   ]
  },
  {
   "cell_type": "markdown",
   "metadata": {},
   "source": [
    "Parameterisation by Finnis et al. 1984, _A simple empirical N-body potential for transition metals_"
   ]
  },
  {
   "cell_type": "markdown",
   "metadata": {},
   "source": [
    "| element | d | A | $\\beta$ | c | $c_0$ | $c_1$ | $c_2$ | \n",
    "| --- | --- | --- | --- | --- | --- | --- | --- |\n",
    "| V  | 3.692767 | 2.010637 | 0   | 3.8  | -0.8816318 | 1.4907756   | -0.3976370 |\n",
    "| Nb | 3.915354 | 3.013789 | 0   | 4.2  | -1.5640104 | 2.0055779   | -0.4663764 |\n",
    "| Ta | 4.076980 | 2.591061 | 0   | 4.2  | 1.2157373  | 0.0271471   | -0.1217350 |\n",
    "| Cr | 3.915720 | 1.453418 | 1.8 | 2.9  | 29.1429813 | -23.3975027 | 4.7578297 |\n",
    "| Mo | 4.114825 | 1.887117 | 0   | 3.25 | 43.4475218 | -31.9332978 | 6.0804249 |\n",
    "| W  | 4.400224 | 1.896373 | 0   | 3.25 | 47.1346499 | -33.7665655 | 6.2541999 |\n",
    "| Fe | 3.699579 | 1.889846 | 1.8 | 3.4  | 1.2110601  | -0.7510840  | 0.1380773 |"
   ]
  },
  {
   "cell_type": "code",
   "execution_count": null,
   "metadata": {},
   "outputs": [],
   "source": [
    "elements = [\"V\", \"Nb\", \"Ta\", \"Cr\", \"Mo\", \"W\", \"Fe\"]\n",
    "element_pairings = [string(el,el) for el in elements]\n",
    "element_pair_map = Dict(pair => i for (i,pair) in enumerate(element_pairings))"
   ]
  },
  {
   "cell_type": "code",
   "execution_count": null,
   "metadata": {},
   "outputs": [],
   "source": [
    "df = DataFrame(\n",
    "    element_pair = element_pairings,\n",
    "    d = [3.692767, 3.915354, 4.076980, 3.915720, 4.114825, 4.400224, 3.699579],\n",
    "    A = [2.010637, 3.013789, 2.591061, 1.453418, 1.887117, 1.896373, 1.889846],\n",
    "    β = [0, 0, 0, 1.8, 0, 0, 1.8],\n",
    "    c = [3.8, 4.2, 4.2, 2.9, 3.25, 3.25, 3.4],\n",
    "    c₀ = [-0.8816318, -1.5640104, 1.2157373, 29.1429813, 43.4475218, 47.1346499, 1.2110601],\n",
    "    c₁ = [1.4907756, 2.0055779, 0.0271471, -23.3975027, -31.9332978, -33.7665655, -0.7510840],\n",
    "    c₂ = [-0.3976370, -0.4663764, -0.1217350, 4.7578297, 6.0804249, 6.2541999, 0.1380773],\n",
    ")"
   ]
  },
  {
   "cell_type": "code",
   "execution_count": null,
   "metadata": {},
   "outputs": [],
   "source": [
    "masses = Dict(\"V\" => 50.9415, \"Nb\" => 92.9064, \"Ta\" => 180.9479,\n",
    "              \"Cr\" => 51.996, \"Mo\" => 95.94, \"W\" => 183.85,\n",
    "              \"Fe\" => 55.847)"
   ]
  },
  {
   "cell_type": "code",
   "execution_count": null,
   "metadata": {},
   "outputs": [],
   "source": [
    "# Å\n",
    "bcc_lattice_constants = Dict(\n",
    "    \"V\" => 3.0399, \"Nb\" => 3.3008, \n",
    "    \"Ta\" => 3.3058, \"Cr\" => 2.8845, \"Mo\" => 3.1472, \n",
    "    \"W\" => 3.1652, \"Fe\" => 2.8665\n",
    ")"
   ]
  },
  {
   "cell_type": "markdown",
   "metadata": {},
   "source": [
    "## Interaction"
   ]
  },
  {
   "cell_type": "code",
   "execution_count": null,
   "metadata": {},
   "outputs": [],
   "source": [
    "\"\"\"\n",
    "A glue interaction that will apply to all atom pairs.\n",
    "Finnis-Sinclair and similar interactions should sub-type this type.\n",
    "This type should be a GeneralInteraction type. But due to the special\n",
    "nature of glue interactions and the restriction to pair interactions\n",
    "of the GeneralInteraction type, glue interactions are for now a sub-type of \n",
    "SpecificInteraction.\n",
    "\"\"\"\n",
    "abstract type GlueInteraction <: SpecificInteraction end"
   ]
  },
  {
   "cell_type": "code",
   "execution_count": null,
   "metadata": {},
   "outputs": [],
   "source": [
    "struct FinnisSinclairInteraction <: GlueInteraction\n",
    "    nl_only::Bool\n",
    "    element_pair_map::Dict\n",
    "    params::DataFrame\n",
    "end"
   ]
  },
  {
   "cell_type": "markdown",
   "metadata": {},
   "source": [
    "Instantiating the interaction"
   ]
  },
  {
   "cell_type": "code",
   "execution_count": null,
   "metadata": {},
   "outputs": [],
   "source": [
    "fs_inter = FinnisSinclairInteraction(true, element_pair_map, df)"
   ]
  },
  {
   "cell_type": "markdown",
   "metadata": {},
   "source": [
    "## Glue potential"
   ]
  },
  {
   "cell_type": "markdown",
   "metadata": {},
   "source": [
    "The glue potential is the core component which makes the Finnis-Sinclair empirical potential and other similar approaches different to, for example, the Lennard-Jones potential. \n",
    "TODO: some more explanation"
   ]
  },
  {
   "cell_type": "markdown",
   "metadata": {},
   "source": [
    "$$\n",
    "\\phi(r) = (r-d)^2 + \\beta (r-d)^3/d\n",
    "$$"
   ]
  },
  {
   "cell_type": "code",
   "execution_count": null,
   "metadata": {},
   "outputs": [],
   "source": [
    "function glue_potential(r::T, β::T, d::T)::T where T<:Real\n",
    "    return r > d ? 0 : (r-d)^2 + β*(r-d)^3/d\n",
    "end"
   ]
  },
  {
   "cell_type": "code",
   "execution_count": null,
   "metadata": {},
   "outputs": [],
   "source": [
    "element_pair, d, A, β, c, c₀, c₁, c₂ = df[1,:] # parameters for Vanadium"
   ]
  },
  {
   "cell_type": "code",
   "execution_count": null,
   "metadata": {},
   "outputs": [],
   "source": [
    "r = collect(range(0, stop=2*3.3058, length=1000));\n",
    "ɸ = glue_potential.(r, β, d);"
   ]
  },
  {
   "cell_type": "code",
   "execution_count": null,
   "metadata": {},
   "outputs": [],
   "source": [
    "ɸs = [ɸ]\n",
    "element_pairs = [element_pair]\n",
    "for i in 2:nrow(df)\n",
    "    element_pair, d, A, β, c, c₀, c₁, c₂ = df[i,:]\n",
    "    ɸ = glue_potential.(r, β, d)\n",
    "    append!(ɸs,[ɸ])\n",
    "    element_pairs = hcat(element_pairs, string(element_pair))\n",
    "end"
   ]
  },
  {
   "cell_type": "code",
   "execution_count": null,
   "metadata": {},
   "outputs": [],
   "source": [
    "plot(r, ɸs, label=element_pairs)"
   ]
  },
  {
   "cell_type": "markdown",
   "metadata": {},
   "source": [
    "## Computing forces"
   ]
  },
  {
   "cell_type": "markdown",
   "metadata": {},
   "source": [
    "This is what we need for the simulation."
   ]
  },
  {
   "cell_type": "markdown",
   "metadata": {},
   "source": [
    "$\\partial_k = \\partial_{R_k} = $ change of atom position $k$, $r_{ij} = \\|R_{ij}\\|_2$, $R_{ij} = R_j - R_i \\in \\mathbb{R}^3$ \n",
    "\n",
    "$$\n",
    "\\partial_k u = \\partial_k u_\\text{pair} + \\partial_k u_\\text{glue} \n",
    "$$\n",
    "\n",
    "$$\n",
    "\\partial_k u_\\text{pair} = \\sum_{i>j} V_{ij}^\\prime(r_{ij})\\partial_k r_{ij}\n",
    "$$\n",
    "\n",
    "$$\n",
    "\\partial_k u_\\text{glue} = \\sum_i f_i^\\prime(\\rho_i) \\cdot \\partial_k \\rho_i \n",
    "$$\n",
    "\n",
    "$$\n",
    "V_{ij}^\\prime(r_{ij}) = 2(r-c)(c_0 + c_1 r + c_2 r^2) + (r-c)^2(c_1 + 2c_2r)\n",
    "$$\n",
    "\n",
    "$$\n",
    "f_i^\\prime(\\rho_i) \\cdot \\partial_k \\rho_i =\n",
    "\\begin{cases}\n",
    "    k = i, & f_k^\\prime(\\rho_k) \\sum_j\\phi_j^\\prime(r_{kj})\\partial_k r_{kj} \\\\\n",
    "    k \\ne i, & \\sum_{i\\ne k} f_i^\\prime(\\rho_i) \\partial_k \\phi_k^\\prime(r_{ik})\\partial_k r_{ik} \\\\\n",
    "\\end{cases}\n",
    "$$\n",
    "\n",
    "$$\n",
    "f_i^\\prime = \\frac{1}{2}A_i\\rho_i^{-3/2}\n",
    "$$\n",
    "\n",
    "$$\n",
    "\\partial_k\\phi(r) = \\left[2(r-d) + 3\\beta (r-d)^2/d\\right] \\cdot\n",
    "\\begin{cases}\n",
    "    k = i, &\\frac{R_{kj}}{r_{kj}} \\\\ \n",
    "    k = j, &\\frac{R_{ik}}{r_{ik}} \\\\\n",
    "\\end{cases}\n",
    "$$\n",
    "\n",
    "$$\n",
    "\\partial_k r_{ij} =\n",
    "\\begin{cases}\n",
    "    k = i, &\\frac{R_{kj}}{r_{kj}} \\\\ \n",
    "    k = j, &\\frac{R_{ik}}{r_{ik}} \\\\\n",
    "\\end{cases}\n",
    "$$"
   ]
  },
  {
   "cell_type": "code",
   "execution_count": null,
   "metadata": {},
   "outputs": [],
   "source": [
    "function pair_potential_derivative(r::T, c::T, c₀::T, c₁::T, c₂::T)::T where T<:Real\n",
    "    return (r > c) ? 0 : 2 * (r - c) * (c₀ + c₁*r + c₂*r^2) + (r - c)^2 * (c₁ + 2*c₂*r)\n",
    "end\n",
    "\n",
    "function glue_energy_derivative(ρ::Float64, A::Float64)::Float64\n",
    "   return A/2 * ρ^-1.5 \n",
    "end\n",
    "\n",
    "function glue_potential_derivative(r::T, β::T, d::T)::T where T<:Real\n",
    "    return r > d ? 0 : 2*(r-d) + 3*β*(r-d)^2/d\n",
    "end"
   ]
  },
  {
   "cell_type": "code",
   "execution_count": null,
   "metadata": {},
   "outputs": [],
   "source": [
    "function get_pair_params(element1::String, element2::String, inter::FinnisSinclairInteraction)\n",
    "    pair = string(sort([element1, element2])...)\n",
    "    return inter.params[inter.element_pair_map[pair],:]\n",
    "end\n",
    "\n",
    "# @inline @inbounds \n",
    "function force(\n",
    "        inter::FinnisSinclairInteraction, \n",
    "        coords, \n",
    "        s #::MinimalSimulationConfig\n",
    "    )\n",
    "    # computing the embedding densities\n",
    "    n_atoms = length(s.coords)\n",
    "    ρs = zeros(n_atoms)\n",
    "    rs = zeros(length(s.neighbours))\n",
    "    r_vec_norms = zeros(length(s.neighbours),3)\n",
    "    \n",
    "    for (n,(i,j)) in enumerate(s.neighbours)\n",
    "        element_i = s.atoms[i].name\n",
    "        element_j = s.atoms[j].name\n",
    "        element_pair = string(sort([element_i, element_j])...)\n",
    "        pi = get_pair_params(element_i,element_i,inter) # inter.params[inter.element_map[element_i],:]\n",
    "        pj = get_pair_params(element_j,element_j,inter) # inter.params[inter.element_map[element_j],:]\n",
    "        pij = get_pair_params(element_i,element_j,inter) # inter.params[inter.element_map[element_pair],:]\n",
    "        \n",
    "        r_vec = vector(s.coords[i], s.coords[j], s.box_size)\n",
    "        r2 = sum(abs2, r_vec)\n",
    "        r = sqrt(r2)\n",
    "        # storing distance (vectors) so we don't need to recompute\n",
    "        rs[n] = r\n",
    "        r_vec_norms[[n],:] = r_vec / r\n",
    "        # storing glue densities\n",
    "        ρs[i] += glue_potential(r, pj.β, pj.d)\n",
    "        ρs[j] += glue_potential(r, pi.β, pi.d)\n",
    "    end\n",
    "    \n",
    "    fs = [zeros(1,3) for _ in 1:n_atoms]\n",
    "    for (n,(i,j)) in enumerate(s.neighbours)\n",
    "        element_i = s.atoms[i].name\n",
    "        element_j = s.atoms[j].name\n",
    "        element_pair = string(sort([element_i, element_j])...)\n",
    "        pi = get_pair_params(element_i,element_i,inter) # inter.params[inter.element_map[element_i],:]\n",
    "        pj = get_pair_params(element_j,element_j,inter) # inter.params[inter.element_map[element_j],:]\n",
    "        pij = get_pair_params(element_i,element_j,inter) # inter.params[inter.element_map[element_pair],:]\n",
    "        \n",
    "        r = rs[n]\n",
    "        r2 = r^2\n",
    "        r_vec_norm = r_vec_norms[[n],:]\n",
    "        \n",
    "        # pair contribution\n",
    "        dpairdR_i = r_vec_norm * pair_potential_derivative(r, pij.c, pij.c₀, pij.c₁, pij.c₂)\n",
    "        dpairdR_j = - dpairdR_i\n",
    "        \n",
    "        # glue contribution\n",
    "        dudρ_i = glue_energy_derivative(ρs[i], pi.A)\n",
    "        dudρ_j = glue_energy_derivative(ρs[j], pj.A)\n",
    "        dΦdr_i = glue_potential_derivative(r, pi.β, pi.d)\n",
    "        dΦdr_j = glue_potential_derivative(r, pj.β, pj.d)\n",
    "        \n",
    "        ## density change by moving the current atom\n",
    "        dgluedR_i_curr = r_vec_norm * dudρ_i * dΦdr_j\n",
    "        dgluedR_j_curr = r_vec_norm * dudρ_j * dΦdr_i\n",
    "        ## density change by moving a neighbouring atom\n",
    "        dgluedR_i_neigh = - r_vec_norm * dudρ_j * dΦdr_i\n",
    "        dgluedR_j_neigh = - r_vec_norm * dudρ_i * dΦdr_j\n",
    "        \n",
    "        # updating the forces\n",
    "        f_i = (dpairdR_i + dgluedR_i_curr + dgluedR_i_neigh)\n",
    "        f_j = (dpairdR_j + dgluedR_j_curr + dgluedR_j_neigh)\n",
    "#         println(\"\\nf_i \", f_i)\n",
    "#         println(\"f_j \", f_j)\n",
    "        fs[i] += f_i\n",
    "        fs[j] += f_j\n",
    "    end\n",
    "    \n",
    "    return collect(1:n_atoms), fs\n",
    "end"
   ]
  },
  {
   "cell_type": "code",
   "execution_count": null,
   "metadata": {},
   "outputs": [],
   "source": [
    "function Molly.force(\n",
    "        inter::FinnisSinclairInteraction, \n",
    "        coords, \n",
    "        s #::MinimalSimulationConfig\n",
    "    )\n",
    "    return force(inter, coords, s)\n",
    "end"
   ]
  },
  {
   "cell_type": "code",
   "execution_count": null,
   "metadata": {},
   "outputs": [],
   "source": [
    "element = \"Fe\"\n",
    "a = bcc_lattice_constants[element]\n",
    "atoms, coords, box, box_size, box_vectors = Crystal.make_bcc_unitcell(element, a=a)\n",
    "sc_atoms, sc_coords, sc_box, sc_box_size = Crystal.make_supercell(atoms, coords, box, box_size, nx=3, ny=3,nz=3)\n",
    "n_atoms = length(sc_atoms);"
   ]
  },
  {
   "cell_type": "code",
   "execution_count": null,
   "metadata": {},
   "outputs": [],
   "source": [
    "specific_inter_list = ((fs_inter,),)\n",
    "velocities = [velocity(1., .01, dims=3) for i in 1:n_atoms]\n",
    "sim = VelocityVerlet()\n",
    "nb_matrix = trues(n_atoms,n_atoms)\n",
    "n_steps = 1\n",
    "dist_cutoff = 2 * a\n",
    "\n",
    "nf = DistanceNeighbourFinder(nb_matrix, n_steps, dist_cutoff);\n",
    "\n",
    "loggers = Dict(\"temperature\" => TemperatureLogger(1))"
   ]
  },
  {
   "cell_type": "code",
   "execution_count": null,
   "metadata": {
    "scrolled": true
   },
   "outputs": [],
   "source": [
    "s = Simulation(\n",
    "    simulator=sim, \n",
    "    atoms=sc_atoms, \n",
    "    specific_inter_lists=specific_inter_list,\n",
    "    general_inters=(),\n",
    "    coords=[SVector{3}(v) for v in sc_coords], \n",
    "    velocities=velocities,\n",
    "    temperature=.01, \n",
    "    box_size=sc_box_size[1,1],\n",
    "    timestep=.002,\n",
    "    n_steps=10,\n",
    "    neighbour_finder=nf,\n",
    "    loggers=loggers,\n",
    ")"
   ]
  },
  {
   "cell_type": "code",
   "execution_count": null,
   "metadata": {},
   "outputs": [],
   "source": [
    "sparse_forces = force.((fs_inter,), (s.coords,), (s,))"
   ]
  },
  {
   "cell_type": "markdown",
   "metadata": {},
   "source": [
    "Testing that all forces are about 0"
   ]
  },
  {
   "cell_type": "code",
   "execution_count": null,
   "metadata": {},
   "outputs": [],
   "source": [
    "function test_sparse_forces_zero(sparse_forces, n_atoms; dims=3)\n",
    "    zeros = [zero(rand(1,3)) for _ in 1:n_atoms]\n",
    "    forces = getindex.(sparse_forces,2)[1]\n",
    "    return all(isapprox.(forces, zeros, atol=1e-6))\n",
    "end"
   ]
  },
  {
   "cell_type": "code",
   "execution_count": null,
   "metadata": {},
   "outputs": [],
   "source": [
    "@test test_sparse_forces_zero(sparse_forces, n_atoms)"
   ]
  },
  {
   "cell_type": "markdown",
   "metadata": {},
   "source": [
    "Modifying `Molly.accelerations` so the forces from the glue interaction are properly used to update the atom forces."
   ]
  },
  {
   "cell_type": "code",
   "execution_count": null,
   "metadata": {},
   "outputs": [],
   "source": [
    "function Molly.accelerations(s::Simulation; parallel::Bool=true)\n",
    "    n_atoms = length(s.coords)\n",
    "\n",
    "    if parallel && nthreads() > 1 && n_atoms >= 100\n",
    "        forces_threads = [zero(s.coords) for i in 1:nthreads()]\n",
    "\n",
    "        # Loop over interactions and calculate the acceleration due to each\n",
    "        for inter in values(s.general_inters)\n",
    "            if inter.nl_only\n",
    "                neighbours = s.neighbours\n",
    "                Threads.@threads for ni in 1:length(neighbours)\n",
    "                    i, j = neighbours[ni]\n",
    "                    force!(forces_threads[threadid()], inter, s, i, j)\n",
    "                end\n",
    "            else\n",
    "                Threads.@threads for i in 1:n_atoms\n",
    "                    for j in 1:(i - 1)\n",
    "                        force!(forces_threads[threadid()], inter, s, i, j)\n",
    "                    end\n",
    "                end\n",
    "            end\n",
    "        end\n",
    "\n",
    "        forces = sum(forces_threads)\n",
    "    else\n",
    "        forces = zero(s.coords)\n",
    "\n",
    "        for inter in values(s.general_inters)\n",
    "            if inter.nl_only\n",
    "                neighbours = s.neighbours\n",
    "                for ni in 1:length(neighbours)\n",
    "                    i, j = neighbours[ni]\n",
    "                    force!(forces, inter, s, i, j)\n",
    "                end\n",
    "            else\n",
    "                for i in 1:n_atoms\n",
    "                    for j in 1:(i - 1)\n",
    "                        force!(forces, inter, s, i, j)\n",
    "                    end\n",
    "                end\n",
    "            end\n",
    "        end\n",
    "    end\n",
    "\n",
    "    for inter_list in values(s.specific_inter_lists)\n",
    "        sparse_forces = force.(inter_list, (s.coords,), (s,))\n",
    "        ge1, ge2 = getindex.(sparse_forces, 1), getindex.(sparse_forces, 2)\n",
    "        sparse_vec = SparseVector(n_atoms, reduce(vcat, ge1), reduce(vcat, ge2))\n",
    "        if typeof(inter_list[1]) == FinnisSinclairInteraction\n",
    "            forces += Array([SVector{3}(v) for v in sparse_vec])\n",
    "        else\n",
    "            forces += Array(sparse_vec)\n",
    "        end\n",
    "        \n",
    "    end\n",
    "\n",
    "    for i in 1:n_atoms\n",
    "        forces[i] /= s.atoms[i].mass\n",
    "    end\n",
    "\n",
    "    return forces\n",
    "end"
   ]
  },
  {
   "cell_type": "code",
   "execution_count": null,
   "metadata": {},
   "outputs": [],
   "source": [
    "function test_forces_zero(forces, n_atoms; dims=3)\n",
    "    zeros = [zero(rand(3)) for _ in 1:n_atoms]\n",
    "    return all(isapprox.(forces, zeros, atol=1e-6))\n",
    "end"
   ]
  },
  {
   "cell_type": "code",
   "execution_count": null,
   "metadata": {},
   "outputs": [],
   "source": [
    "@test test_forces_zero(accelerations(s, parallel=false), n_atoms)"
   ]
  },
  {
   "cell_type": "code",
   "execution_count": null,
   "metadata": {
    "scrolled": true
   },
   "outputs": [],
   "source": [
    "simulate!(s, parallel=false)"
   ]
  },
  {
   "cell_type": "code",
   "execution_count": null,
   "metadata": {},
   "outputs": [],
   "source": [
    "s.loggers[\"temperature\"].temperatures"
   ]
  },
  {
   "cell_type": "markdown",
   "metadata": {},
   "source": [
    "## Computing energies"
   ]
  },
  {
   "cell_type": "markdown",
   "metadata": {},
   "source": [
    "This is only really interesting for logging / development of potentials."
   ]
  },
  {
   "cell_type": "markdown",
   "metadata": {},
   "source": [
    "### Pair energy"
   ]
  },
  {
   "cell_type": "markdown",
   "metadata": {},
   "source": [
    "$$\n",
    "V_{ij}(r_{ij}) = \n",
    "\\begin{cases} \n",
    "r \\le c, & (r-c)^2 \\left( c_0 + c_1 r + c_2 r^2 \\right) \\\\\n",
    "r > c, & 0 \\\\\n",
    "\\end{cases}\n",
    "$$\n"
   ]
  },
  {
   "cell_type": "code",
   "execution_count": null,
   "metadata": {},
   "outputs": [],
   "source": [
    "function pair_potential(r::T, c::T, c₀::T, c₁::T, c₂::T)::T where T<:Real\n",
    "    return (r > c) ? 0 : (r - c)^2 * (c₀ + c₁*r + c₂*r^2)\n",
    "end"
   ]
  },
  {
   "cell_type": "code",
   "execution_count": null,
   "metadata": {},
   "outputs": [],
   "source": [
    "element_pair, d, A, β, c, c₀, c₁, c₂ = df[1,:] # parameters for Vanadium"
   ]
  },
  {
   "cell_type": "code",
   "execution_count": null,
   "metadata": {},
   "outputs": [],
   "source": [
    "V = pair_potential.(r, c, c₀, c₁, c₂);"
   ]
  },
  {
   "cell_type": "code",
   "execution_count": null,
   "metadata": {},
   "outputs": [],
   "source": [
    "Vs = [V]\n",
    "element_pairs = [element_pair]\n",
    "for i in 2:nrow(df)\n",
    "    element_pair, d, A, β, c, c₀, c₁, c₂ = df[i,:]\n",
    "    V = pair_potential.(r, c, c₀, c₁, c₂)\n",
    "    append!(Vs,[V])\n",
    "    element_pairs = hcat(element_pairs, string(element_pair))\n",
    "end"
   ]
  },
  {
   "cell_type": "code",
   "execution_count": null,
   "metadata": {},
   "outputs": [],
   "source": [
    "plot(r, Vs, label=element_pairs)"
   ]
  },
  {
   "cell_type": "markdown",
   "metadata": {},
   "source": [
    "### Glue energy"
   ]
  },
  {
   "cell_type": "markdown",
   "metadata": {},
   "source": [
    "Computing an energy based on local glue values"
   ]
  },
  {
   "cell_type": "markdown",
   "metadata": {},
   "source": [
    "$$\n",
    "u_\\text{glue} = -A \\cdot \\sqrt{\\rho}\n",
    "$$\n",
    "\n",
    "$$\n",
    "\\rho = \\sum_{j \\in \\text{neighborhood}(i)} \\phi(r_{ij})\n",
    "$$"
   ]
  },
  {
   "cell_type": "code",
   "execution_count": null,
   "metadata": {},
   "outputs": [],
   "source": [
    "function glue_energy(ρ::Float64, A::Float64)::Float64\n",
    "   return -A * √ρ \n",
    "end"
   ]
  },
  {
   "cell_type": "code",
   "execution_count": null,
   "metadata": {},
   "outputs": [],
   "source": [
    "ρ = 4. # density that you get summing phi-contributions from neighbours\n",
    "glue_energy(ρ, 1.)"
   ]
  },
  {
   "cell_type": "code",
   "execution_count": null,
   "metadata": {},
   "outputs": [],
   "source": [
    "ρ = collect(range(0, stop=50, length=100));\n",
    "\n",
    "A = df.A[1] # Va\n",
    "uₙ = glue_energy.(ρ, A)\n",
    "element_pair = df.element_pair[1]"
   ]
  },
  {
   "cell_type": "code",
   "execution_count": null,
   "metadata": {},
   "outputs": [],
   "source": [
    "uₙs = [uₙ]\n",
    "element_pairs = [element_pair]\n",
    "for i in 2:nrow(df)\n",
    "    element_pair, d, A, β, c, c₀, c₁, c₂ = df[i,:]\n",
    "    uₙ = glue_energy.(ρ, A)\n",
    "    append!(uₙs,[uₙ])\n",
    "    element_pairs = hcat(element_pairs, string(element_pair))\n",
    "end"
   ]
  },
  {
   "cell_type": "code",
   "execution_count": null,
   "metadata": {},
   "outputs": [],
   "source": [
    "plot(ρ, uₙs, label=element_pairs)"
   ]
  },
  {
   "cell_type": "markdown",
   "metadata": {},
   "source": [
    "### Pair + glue energy = magic"
   ]
  },
  {
   "cell_type": "markdown",
   "metadata": {},
   "source": [
    "$$ u_\\text{tot} = u_N + u_P $$\n",
    "\n",
    "$$ u_P = \\frac{1}{2}\\sum_{i=1,j=1}^{n_\\text{atoms},n_\\text{atoms}} V(r_{ij}) $$\n",
    "\n",
    "$$ u_N = \\sum_{i=1}^{n_\\text{atoms}} u_\\text{glue}(\\rho_i) $$"
   ]
  },
  {
   "cell_type": "code",
   "execution_count": null,
   "metadata": {},
   "outputs": [],
   "source": [
    "# @inline @inbound \n",
    "function potential_energy(inter::FinnisSinclairInteraction, s) # ::Simulation\n",
    "    #computing the potential energy combining glue and pair components.\n",
    "    \n",
    "    #U = eltype(s.coords[i])\n",
    "    #i == j && return zero(U) # ?\n",
    "    e_pair = 0.\n",
    "    e_glue = 0.\n",
    "    n_atoms = length(s.coords)\n",
    "    ρs = zeros(n_atoms)\n",
    "    for (i,j) in s.neighbours\n",
    "        element_i = s.atoms[i].name\n",
    "        element_j = s.atoms[j].name\n",
    "        element_pair = string(sort([element_i, element_j])...)\n",
    "        pi = get_pair_params(element_i,element_i,inter) # inter.params[inter.element_map[element_i],:]\n",
    "        pj = get_pair_params(element_j,element_j,inter) # inter.params[inter.element_map[element_j],:]\n",
    "        pij = get_pair_params(element_i,element_j,inter) # inter.params[inter.element_map[element_pair],:]\n",
    "        \n",
    "        r_vec = vector(s.coords[i], s.coords[j], s.box_size)\n",
    "        r2 = sum(abs2, r_vec)\n",
    "        r = sqrt(r2)\n",
    "        \n",
    "        e_pair += pair_potential(r, pij.c, pij.c₀, pij.c₁, pij.c₂)\n",
    "        \n",
    "        ρs[i] += glue_potential(r, pj.β, pj.d)\n",
    "        ρs[j] += glue_potential(r, pi.β, pi.d)\n",
    "    end\n",
    "    \n",
    "    es_glue = zeros(n_atoms)\n",
    "    for (i, atom) in enumerate(s.atoms)\n",
    "        A = get_pair_params(atom.name, atom.name, inter).A\n",
    "        es_glue[i] = glue_energy(ρs[i], A)\n",
    "    end\n",
    "    e_glue = sum(es_glue)\n",
    "#     println(\"e_pair: \", e_pair, \" e_glue: \", e_glue, \"\\n\\nes_glue: \", es_glue, \"\\n\\nρs: \", ρs)\n",
    "    return e_pair + e_glue \n",
    "end"
   ]
  },
  {
   "cell_type": "code",
   "execution_count": null,
   "metadata": {},
   "outputs": [],
   "source": [
    "function Molly.potential_energy(inter::FinnisSinclairInteraction, s)\n",
    "    return potential_energy(inter, s)\n",
    "end"
   ]
  },
  {
   "cell_type": "code",
   "execution_count": null,
   "metadata": {},
   "outputs": [],
   "source": [
    "u = Molly.potential_energy(fs_inter, s) / n_atoms"
   ]
  },
  {
   "cell_type": "code",
   "execution_count": null,
   "metadata": {},
   "outputs": [],
   "source": [
    "@test isapprox(u, -4.28, atol=1e-2)"
   ]
  },
  {
   "cell_type": "markdown",
   "metadata": {},
   "source": [
    "### Running simulation with potential energy logger"
   ]
  },
  {
   "cell_type": "code",
   "execution_count": null,
   "metadata": {},
   "outputs": [],
   "source": [
    "loggers = Dict(\n",
    "    \"temperature\" => TemperatureLogger(1),\n",
    "    \"energy\" => EnergyLogger(1),\n",
    ")"
   ]
  },
  {
   "cell_type": "code",
   "execution_count": null,
   "metadata": {
    "scrolled": true
   },
   "outputs": [],
   "source": [
    "s = Simulation(\n",
    "    simulator=sim, \n",
    "    atoms=sc_atoms, \n",
    "    specific_inter_lists=specific_inter_list,\n",
    "    general_inters=(),\n",
    "    coords=[SVector{3}(v) for v in sc_coords], \n",
    "    velocities=velocities,\n",
    "    temperature=.01, \n",
    "    box_size=sc_box_size[1,1],\n",
    "    timestep=.002,\n",
    "    n_steps=10,\n",
    "    neighbour_finder=nf,\n",
    "    loggers=loggers,\n",
    ")"
   ]
  },
  {
   "cell_type": "code",
   "execution_count": null,
   "metadata": {},
   "outputs": [],
   "source": [
    "simulate!(s, parallel=false)"
   ]
  },
  {
   "cell_type": "code",
   "execution_count": null,
   "metadata": {},
   "outputs": [],
   "source": [
    "s.loggers[\"energy\"].energies"
   ]
  }
 ],
 "metadata": {
  "kernelspec": {
   "display_name": "Julia 1.5.3",
   "language": "julia",
   "name": "julia-1.5"
  },
  "language_info": {
   "file_extension": ".jl",
   "mimetype": "application/julia",
   "name": "julia",
   "version": "1.5.3"
  },
  "toc": {
   "base_numbering": 1,
   "nav_menu": {
    "height": "167px",
    "width": "309px"
   },
   "number_sections": true,
   "sideBar": true,
   "skip_h1_title": false,
   "title_cell": "Table of Contents",
   "title_sidebar": "Contents",
   "toc_cell": false,
   "toc_position": {},
   "toc_section_display": true,
   "toc_window_display": false
  }
 },
 "nbformat": 4,
 "nbformat_minor": 4
}
