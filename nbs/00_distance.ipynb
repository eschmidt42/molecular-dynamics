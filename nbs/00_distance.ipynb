{
 "cells": [
  {
   "cell_type": "code",
   "execution_count": null,
   "metadata": {},
   "outputs": [],
   "source": [
    "# default_exp distance"
   ]
  },
  {
   "cell_type": "markdown",
   "metadata": {},
   "source": [
    "# Distance\n",
    "> Distance calculation"
   ]
  },
  {
   "cell_type": "markdown",
   "metadata": {},
   "source": [
    "Wiki on [k-d-tree](https://en.wikipedia.org/wiki/K-d_tree)"
   ]
  },
  {
   "cell_type": "code",
   "execution_count": null,
   "metadata": {},
   "outputs": [],
   "source": [
    "%load_ext autoreload\n",
    "%autoreload 2"
   ]
  },
  {
   "cell_type": "code",
   "execution_count": null,
   "metadata": {},
   "outputs": [],
   "source": [
    "#export\n",
    "import numpy as np\n",
    "import torch\n",
    "import plotly.graph_objects as go\n",
    "import plotly.express as px\n",
    "import timeit\n",
    "import itertools\n",
    "import pandas as pd"
   ]
  },
  {
   "cell_type": "markdown",
   "metadata": {},
   "source": [
    "## Direct pairwise distances"
   ]
  },
  {
   "cell_type": "markdown",
   "metadata": {},
   "source": [
    "Example positions and distances"
   ]
  },
  {
   "cell_type": "code",
   "execution_count": null,
   "metadata": {},
   "outputs": [],
   "source": [
    "positions = torch.tensor([[0,0],\n",
    "                          [1,1],\n",
    "                          [2,2]], dtype=torch.float)\n",
    "correct_distances = torch.tensor([2., 8., 2.], dtype=torch.float)"
   ]
  },
  {
   "cell_type": "code",
   "execution_count": null,
   "metadata": {},
   "outputs": [],
   "source": [
    "#export\n",
    "class PairwiseDistance:\n",
    "    def __call__(self, x:torch.Tensor, method:str='torch'):\n",
    "        return getattr(self, f'{method}_pairwise_distance')(x)"
   ]
  },
  {
   "cell_type": "code",
   "execution_count": null,
   "metadata": {},
   "outputs": [],
   "source": [
    "pdist = PairwiseDistance()"
   ]
  },
  {
   "cell_type": "markdown",
   "metadata": {},
   "source": [
    "Using the Gram matrix to compute pairwise distances: [stackexchange](https://math.stackexchange.com/questions/2240429/pairwise-distance-matrix)"
   ]
  },
  {
   "cell_type": "code",
   "execution_count": null,
   "metadata": {},
   "outputs": [],
   "source": [
    "#export\n",
    "def pairwise_dist_gram(x:torch.Tensor, y:torch.Tensor,\n",
    "                       flat:bool=True) -> torch.Tensor:\n",
    "    \n",
    "    nx = x.size()[0]\n",
    "    ny = y.size()[0]\n",
    "    \n",
    "    x2 = torch.mm(x, x.t())\n",
    "    y2 = torch.mm(y, y.t())\n",
    "    xy = torch.mm(x, y.t())\n",
    "    \n",
    "    x2 = x2.diag().unsqueeze(0).expand(ny,-1)\n",
    "    y2 = y2.diag().unsqueeze(0).expand(nx,-1)\n",
    "    d = x2.t() + y2 - 2*xy\n",
    "    if flat:\n",
    "        ix = torch.triu_indices(nx,ny,offset=1) #list(zip(*list(itertools.combinations(range(len(positions)), r=2))))\n",
    "        return d[ix[0],ix[1]]\n",
    "    return d"
   ]
  },
  {
   "cell_type": "code",
   "execution_count": null,
   "metadata": {},
   "outputs": [],
   "source": [
    "%%time\n",
    "pairwise_dist_gram(positions, positions)"
   ]
  },
  {
   "cell_type": "code",
   "execution_count": null,
   "metadata": {},
   "outputs": [],
   "source": [
    "%%timeit\n",
    "pairwise_dist_gram(positions, positions)"
   ]
  },
  {
   "cell_type": "code",
   "execution_count": null,
   "metadata": {},
   "outputs": [],
   "source": [
    "#export\n",
    "def stackoverflow_pairwise_distance(self, x:torch.Tensor):\n",
    "    return pairwise_dist_gram(x, x)\n",
    "\n",
    "PairwiseDistance.stackoverflow_pairwise_distance = stackoverflow_pairwise_distance"
   ]
  },
  {
   "cell_type": "code",
   "execution_count": null,
   "metadata": {},
   "outputs": [],
   "source": [
    "pdist(positions, method='stackoverflow')"
   ]
  },
  {
   "cell_type": "code",
   "execution_count": null,
   "metadata": {},
   "outputs": [],
   "source": [
    "%timeit pdist(positions, method='stackoverflow')"
   ]
  },
  {
   "cell_type": "code",
   "execution_count": null,
   "metadata": {},
   "outputs": [],
   "source": [
    "assert torch.isclose(correct_distances, \n",
    "              pdist(positions, method='stackoverflow')).all()"
   ]
  },
  {
   "cell_type": "markdown",
   "metadata": {},
   "source": [
    "Using pre-existing implementation in pytorch: `torch.nn.PairwiseDistance`"
   ]
  },
  {
   "cell_type": "code",
   "execution_count": null,
   "metadata": {},
   "outputs": [],
   "source": [
    "#export\n",
    "def torch_pairwise_distance(self, x:torch.Tensor):\n",
    "    nx = ny = x.size()[0]\n",
    "    pdist = torch.nn.PairwiseDistance(p=2, keepdim=True)\n",
    "    ix = torch.triu_indices(nx,ny,offset=1)\n",
    "    return pdist(x[ix[0],:], x[ix[1],:]).squeeze(1) ** 2\n",
    "\n",
    "PairwiseDistance.torch_pairwise_distance = torch_pairwise_distance"
   ]
  },
  {
   "cell_type": "code",
   "execution_count": null,
   "metadata": {},
   "outputs": [],
   "source": [
    "pdist(positions, method='torch')"
   ]
  },
  {
   "cell_type": "code",
   "execution_count": null,
   "metadata": {},
   "outputs": [],
   "source": [
    "%timeit pdist(positions, method='torch')"
   ]
  },
  {
   "cell_type": "code",
   "execution_count": null,
   "metadata": {},
   "outputs": [],
   "source": [
    "assert torch.isclose(correct_distances, \n",
    "              pdist(positions, method='torch')).all()"
   ]
  },
  {
   "cell_type": "markdown",
   "metadata": {},
   "source": [
    "**Testing the scaling behavior**"
   ]
  },
  {
   "cell_type": "code",
   "execution_count": null,
   "metadata": {},
   "outputs": [],
   "source": [
    "# number of positions\n",
    "n = [5, 10, 50, 100, 500, 1000]\n",
    "# number of dimensions\n",
    "d = [2, 3, 4, 5, 6, 7, 8, 9, 10]"
   ]
  },
  {
   "cell_type": "code",
   "execution_count": null,
   "metadata": {},
   "outputs": [],
   "source": [
    "timeit.Timer(lambda: pdist(positions, method='torch')).repeat(repeat=3, number=7)"
   ]
  },
  {
   "cell_type": "code",
   "execution_count": null,
   "metadata": {},
   "outputs": [],
   "source": [
    "#export\n",
    "def measure_execution_time(fun, args, kwargs, repetitions:int=3,\n",
    "                           number:int=21):\n",
    "    ts = []\n",
    "    return (timeit.Timer(lambda: fun(*args, **kwargs))\n",
    "            .repeat(repeat=repetitions, number=number))\n"
   ]
  },
  {
   "cell_type": "code",
   "execution_count": null,
   "metadata": {},
   "outputs": [],
   "source": [
    "reps = 7\n",
    "number = 21"
   ]
  },
  {
   "cell_type": "code",
   "execution_count": null,
   "metadata": {},
   "outputs": [],
   "source": [
    "%%time\n",
    "timing_stats = []\n",
    "for method, _n, _d in itertools.product(['torch', 'stackoverflow'], n, d):\n",
    "    positions = torch.randn(_n, _d)\n",
    "    timing_stats.append({\n",
    "        'n':_n,\n",
    "        'd':_d,\n",
    "        'method': method,\n",
    "        'ts': measure_execution_time(pdist, args=(positions,), \n",
    "                                     kwargs=dict(method=method),\n",
    "                                     repetitions=reps,\n",
    "                                     number=number)\n",
    "    })\n",
    "        \n",
    "timing_stats = pd.DataFrame(timing_stats)"
   ]
  },
  {
   "cell_type": "code",
   "execution_count": null,
   "metadata": {},
   "outputs": [],
   "source": [
    "timing_stats.head()"
   ]
  },
  {
   "cell_type": "code",
   "execution_count": null,
   "metadata": {},
   "outputs": [],
   "source": [
    "timing_stats_e = timing_stats.explode('ts')"
   ]
  },
  {
   "cell_type": "code",
   "execution_count": null,
   "metadata": {},
   "outputs": [],
   "source": [
    "n_filter = 100\n",
    "d_filter = 3"
   ]
  },
  {
   "cell_type": "code",
   "execution_count": null,
   "metadata": {},
   "outputs": [],
   "source": [
    "mask_n = timing_stats['n'] == n_filter\n",
    "mask_d = timing_stats['d'] == d_filter"
   ]
  },
  {
   "cell_type": "code",
   "execution_count": null,
   "metadata": {},
   "outputs": [],
   "source": [
    "px.scatter(timing_stats_e.loc[mask_d], x='n', y='ts', color='method',\n",
    "           title=f'Performance @ {d_filter} dims')"
   ]
  },
  {
   "cell_type": "code",
   "execution_count": null,
   "metadata": {},
   "outputs": [],
   "source": [
    "px.scatter(timing_stats_e.loc[mask_n], x='d', y='ts', color='method',\n",
    "           title=f'Performance @ {n_filter} samples')"
   ]
  },
  {
   "cell_type": "markdown",
   "metadata": {},
   "source": [
    "TODO:\n",
    "- mapping between flat and square form to answer nearest neighbor queries"
   ]
  },
  {
   "cell_type": "code",
   "execution_count": null,
   "metadata": {},
   "outputs": [],
   "source": []
  }
 ],
 "metadata": {
  "kernelspec": {
   "display_name": "Python [conda env:py38_md]",
   "language": "python",
   "name": "conda-env-py38_md-py"
  }
 },
 "nbformat": 4,
 "nbformat_minor": 2
}
