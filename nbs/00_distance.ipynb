{
 "cells": [
  {
   "cell_type": "code",
   "execution_count": null,
   "metadata": {},
   "outputs": [],
   "source": [
    "# default_exp distance"
   ]
  },
  {
   "cell_type": "markdown",
   "metadata": {},
   "source": [
    "# Distance\n",
    "> Distance calculation"
   ]
  },
  {
   "cell_type": "markdown",
   "metadata": {},
   "source": [
    "Wiki on [k-d-tree](https://en.wikipedia.org/wiki/K-d_tree)"
   ]
  },
  {
   "cell_type": "code",
   "execution_count": null,
   "metadata": {},
   "outputs": [],
   "source": [
    "#export\n",
    "import numpy as np\n",
    "import torch\n",
    "import plotly.graph_objects as go\n",
    "import plotly.express as px\n",
    "import timeit\n",
    "import itertools"
   ]
  },
  {
   "cell_type": "markdown",
   "metadata": {},
   "source": [
    "from stackoverflow:\n",
    "```python\n",
    "def pairwise_dist(x, y):\n",
    "    xx, yy, zz = torch.mm(x,x.t()), torch.mm(y,y.t()), torch.mm(x, y.t())\n",
    "    rx = (xx.diag().unsqueeze(0).expand_as(xx))\n",
    "    ry = (yy.diag().unsqueeze(0).expand_as(yy))\n",
    "    P = (rx.t() + ry - 2*zz)\n",
    "    return P\n",
    "```"
   ]
  },
  {
   "cell_type": "code",
   "execution_count": null,
   "metadata": {},
   "outputs": [],
   "source": [
    "timeit.Timer(lambda : 1+1).repeat(repeat=3, number=7)"
   ]
  },
  {
   "cell_type": "code",
   "execution_count": null,
   "metadata": {},
   "outputs": [],
   "source": [
    "positions = torch.tensor([[0,0],\n",
    "                          [1,1],\n",
    "                          [2,2]], dtype=torch.float)\n",
    "correct_distances = torch.tensor([2., 8., 2.], dtype=torch.float)"
   ]
  },
  {
   "cell_type": "code",
   "execution_count": null,
   "metadata": {},
   "outputs": [],
   "source": [
    "#export\n",
    "class PairwiseDistance:\n",
    "    def __call__(self, x:torch.Tensor, method:str='torch'):\n",
    "        return getattr(self, f'{method}_pairwise_distance')(x)"
   ]
  },
  {
   "cell_type": "code",
   "execution_count": null,
   "metadata": {},
   "outputs": [],
   "source": [
    "pdist = PairwiseDistance()"
   ]
  },
  {
   "cell_type": "markdown",
   "metadata": {},
   "source": [
    "Using the Gram matrix to compute pairwise distances"
   ]
  },
  {
   "cell_type": "code",
   "execution_count": null,
   "metadata": {},
   "outputs": [],
   "source": [
    "#export\n",
    "def pairwise_dist_gram(x:torch.Tensor, y:torch.Tensor,\n",
    "                       flat:bool=True) -> torch.Tensor:\n",
    "    \n",
    "    nx = x.size()[0]\n",
    "    ny = y.size()[0]\n",
    "    \n",
    "    x2 = torch.mm(x, x.t())\n",
    "    y2 = torch.mm(y, y.t())\n",
    "    xy = torch.mm(x, y.t())\n",
    "    \n",
    "    x2 = x2.diag().unsqueeze(0).expand(ny,-1)\n",
    "    y2 = y2.diag().unsqueeze(0).expand(nx,-1)\n",
    "    d = x2.t() + y2 - 2*xy\n",
    "    if flat:\n",
    "        ix = torch.triu_indices(nx,ny,offset=1) #list(zip(*list(itertools.combinations(range(len(positions)), r=2))))\n",
    "        return d[ix[0],ix[1]]\n",
    "    return d"
   ]
  },
  {
   "cell_type": "code",
   "execution_count": null,
   "metadata": {},
   "outputs": [],
   "source": [
    "%%time\n",
    "pairwise_dist_gram(positions, positions)"
   ]
  },
  {
   "cell_type": "code",
   "execution_count": null,
   "metadata": {},
   "outputs": [],
   "source": [
    "%%timeit\n",
    "pairwise_dist_gram(positions, positions)"
   ]
  },
  {
   "cell_type": "code",
   "execution_count": null,
   "metadata": {},
   "outputs": [],
   "source": [
    "assert torch.isclose(correct_distances, \n",
    "              pdist(positions, method='stackoverflow')).all()"
   ]
  },
  {
   "cell_type": "code",
   "execution_count": null,
   "metadata": {},
   "outputs": [],
   "source": [
    "#export\n",
    "def stackoverflow_pairwise_distance(self, x:torch.Tensor):\n",
    "    return pairwise_dist_gram(x, x)\n",
    "\n",
    "PairwiseDistance.stackoverflow_pairwise_distance = stackoverflow_pairwise_distance"
   ]
  },
  {
   "cell_type": "code",
   "execution_count": null,
   "metadata": {},
   "outputs": [],
   "source": [
    "pdist(positions, method='stackoverflow')"
   ]
  },
  {
   "cell_type": "markdown",
   "metadata": {},
   "source": [
    "Using pre-existing implementation in pytorch: `torch.nn.PairwiseDistance`"
   ]
  },
  {
   "cell_type": "code",
   "execution_count": null,
   "metadata": {},
   "outputs": [],
   "source": [
    "#export\n",
    "def torch_pairwise_distance(self, x:torch.Tensor):\n",
    "    nx = ny = x.size()[0]\n",
    "    pdist = torch.nn.PairwiseDistance(p=2, keepdim=True)\n",
    "    ix = torch.triu_indices(nx,ny,offset=1)\n",
    "    return pdist(x[ix[0],:], x[ix[1],:]).squeeze(1) ** 2\n",
    "\n",
    "PairwiseDistance.torch_pairwise_distance = torch_pairwise_distance"
   ]
  },
  {
   "cell_type": "markdown",
   "metadata": {},
   "source": [
    "Wow `torch.nn.PairwiseDistance` seems to be 10x faster than `pairwise_dist_gram`"
   ]
  },
  {
   "cell_type": "code",
   "execution_count": null,
   "metadata": {},
   "outputs": [],
   "source": [
    "pdist(positions, method='torch')"
   ]
  },
  {
   "cell_type": "code",
   "execution_count": null,
   "metadata": {},
   "outputs": [],
   "source": [
    "%timeit pdist(positions, method='torch')"
   ]
  },
  {
   "cell_type": "code",
   "execution_count": null,
   "metadata": {},
   "outputs": [],
   "source": [
    "assert torch.isclose(correct_distances, \n",
    "              pdist(positions, method='torch')).all()"
   ]
  },
  {
   "cell_type": "markdown",
   "metadata": {},
   "source": [
    "TODO:\n",
    "- test time scaling behavior of the distance functions\n",
    "- mapping between flat and square form to answer nearest neighbor queries"
   ]
  },
  {
   "cell_type": "code",
   "execution_count": null,
   "metadata": {},
   "outputs": [],
   "source": [
    "timeit.Timer.repeat?"
   ]
  }
 ],
 "metadata": {
  "kernelspec": {
   "display_name": "Python [conda env:py38_md]",
   "language": "python",
   "name": "conda-env-py38_md-py"
  }
 },
 "nbformat": 4,
 "nbformat_minor": 2
}
