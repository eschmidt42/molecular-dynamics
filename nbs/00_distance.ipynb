{
 "cells": [
  {
   "cell_type": "code",
   "execution_count": null,
   "metadata": {},
   "outputs": [],
   "source": [
    "# default_exp distance"
   ]
  },
  {
   "cell_type": "markdown",
   "metadata": {},
   "source": [
    "# Distance\n",
    "> Distance calculation"
   ]
  },
  {
   "cell_type": "markdown",
   "metadata": {},
   "source": [
    "Wiki on [k-d-tree](https://en.wikipedia.org/wiki/K-d_tree)"
   ]
  },
  {
   "cell_type": "code",
   "execution_count": null,
   "metadata": {},
   "outputs": [],
   "source": [
    "%load_ext autoreload\n",
    "%autoreload 2"
   ]
  },
  {
   "cell_type": "code",
   "execution_count": null,
   "metadata": {},
   "outputs": [],
   "source": [
    "#export\n",
    "import numpy as np\n",
    "import torch\n",
    "import plotly.graph_objects as go\n",
    "import plotly.express as px\n",
    "import timeit\n",
    "import typing\n",
    "import itertools\n",
    "import pandas as pd\n",
    "import math"
   ]
  },
  {
   "cell_type": "markdown",
   "metadata": {},
   "source": [
    "## Direct pairwise distances"
   ]
  },
  {
   "cell_type": "markdown",
   "metadata": {},
   "source": [
    "Example positions and distances"
   ]
  },
  {
   "cell_type": "code",
   "execution_count": null,
   "metadata": {},
   "outputs": [],
   "source": [
    "positions = torch.tensor([[0,0],\n",
    "                          [1,1],\n",
    "                          [2,2]], dtype=torch.float)\n",
    "correct_distances = torch.tensor([2., 8., 2.], dtype=torch.float)"
   ]
  },
  {
   "cell_type": "code",
   "execution_count": null,
   "metadata": {},
   "outputs": [],
   "source": [
    "#export\n",
    "class PairwiseDistance:\n",
    "    def __call__(self, x:torch.Tensor, method:str='torch'):\n",
    "        return getattr(self, f'{method}_pairwise_distance')(x)"
   ]
  },
  {
   "cell_type": "code",
   "execution_count": null,
   "metadata": {},
   "outputs": [],
   "source": [
    "pdist = PairwiseDistance()"
   ]
  },
  {
   "cell_type": "markdown",
   "metadata": {},
   "source": [
    "Using the Gram matrix to compute pairwise distances: [stackexchange](https://math.stackexchange.com/questions/2240429/pairwise-distance-matrix)"
   ]
  },
  {
   "cell_type": "code",
   "execution_count": null,
   "metadata": {},
   "outputs": [],
   "source": [
    "#export\n",
    "def pairwise_dist_gram(x:torch.Tensor, y:torch.Tensor,\n",
    "                       flat:bool=True) -> torch.Tensor:\n",
    "    \n",
    "    nx = x.size()[0]\n",
    "    ny = y.size()[0]\n",
    "    \n",
    "    x2 = torch.mm(x, x.t())\n",
    "    y2 = torch.mm(y, y.t())\n",
    "    xy = torch.mm(x, y.t())\n",
    "    \n",
    "    x2 = x2.diag().unsqueeze(0).expand(ny,-1)\n",
    "    y2 = y2.diag().unsqueeze(0).expand(nx,-1)\n",
    "    d = x2.t() + y2 - 2*xy\n",
    "    if flat:\n",
    "        ix = torch.triu_indices(nx,ny,offset=1) #list(zip(*list(itertools.combinations(range(len(positions)), r=2))))\n",
    "        return d[ix[0],ix[1]]\n",
    "    return d"
   ]
  },
  {
   "cell_type": "code",
   "execution_count": null,
   "metadata": {},
   "outputs": [],
   "source": [
    "%%time\n",
    "pairwise_dist_gram(positions, positions)"
   ]
  },
  {
   "cell_type": "code",
   "execution_count": null,
   "metadata": {},
   "outputs": [],
   "source": [
    "%%timeit\n",
    "pairwise_dist_gram(positions, positions)"
   ]
  },
  {
   "cell_type": "code",
   "execution_count": null,
   "metadata": {},
   "outputs": [],
   "source": [
    "#export\n",
    "def stackoverflow_pairwise_distance(self, x:torch.Tensor):\n",
    "    return pairwise_dist_gram(x, x)\n",
    "\n",
    "PairwiseDistance.stackoverflow_pairwise_distance = stackoverflow_pairwise_distance"
   ]
  },
  {
   "cell_type": "code",
   "execution_count": null,
   "metadata": {},
   "outputs": [],
   "source": [
    "pdist(positions, method='stackoverflow')"
   ]
  },
  {
   "cell_type": "code",
   "execution_count": null,
   "metadata": {},
   "outputs": [],
   "source": [
    "%timeit pdist(positions, method='stackoverflow')"
   ]
  },
  {
   "cell_type": "code",
   "execution_count": null,
   "metadata": {},
   "outputs": [],
   "source": [
    "assert torch.isclose(correct_distances, \n",
    "              pdist(positions, method='stackoverflow')).all()"
   ]
  },
  {
   "cell_type": "markdown",
   "metadata": {},
   "source": [
    "Using pre-existing implementation in pytorch: `torch.nn.PairwiseDistance`"
   ]
  },
  {
   "cell_type": "code",
   "execution_count": null,
   "metadata": {},
   "outputs": [],
   "source": [
    "#export\n",
    "def torch_pairwise_distance(self, x:torch.Tensor):\n",
    "    nx = ny = x.size()[0]\n",
    "    pdist = torch.nn.PairwiseDistance(p=2, keepdim=True)\n",
    "    ix = torch.triu_indices(nx,ny,offset=1)\n",
    "    return pdist(x[ix[0],:], x[ix[1],:]).squeeze(1) ** 2\n",
    "\n",
    "PairwiseDistance.torch_pairwise_distance = torch_pairwise_distance"
   ]
  },
  {
   "cell_type": "code",
   "execution_count": null,
   "metadata": {},
   "outputs": [],
   "source": [
    "pdist(positions, method='torch')"
   ]
  },
  {
   "cell_type": "code",
   "execution_count": null,
   "metadata": {},
   "outputs": [],
   "source": [
    "%timeit pdist(positions, method='torch')"
   ]
  },
  {
   "cell_type": "code",
   "execution_count": null,
   "metadata": {},
   "outputs": [],
   "source": [
    "assert torch.isclose(correct_distances, \n",
    "              pdist(positions, method='torch')).all()"
   ]
  },
  {
   "cell_type": "markdown",
   "metadata": {},
   "source": [
    "**Testing the scaling behavior**"
   ]
  },
  {
   "cell_type": "code",
   "execution_count": null,
   "metadata": {},
   "outputs": [],
   "source": [
    "#export\n",
    "def measure_execution_time(fun:typing.Callable, args, kwargs, \n",
    "                           repetitions:int=3, number:int=21):\n",
    "    return (timeit.Timer(lambda: fun(*args, **kwargs))\n",
    "            .repeat(repeat=repetitions, number=number))\n",
    "\n",
    "\n",
    "def get_time_stats(fun:typing.Callable, n:int, d:int, \n",
    "                   methods:typing.List[str]=['torch', 'stackoverflow'],\n",
    "                   reps:int=7, number:int=21):\n",
    "    \n",
    "    timing_stats = []\n",
    "    for method, _n, _d in itertools.product(methods, n, d):\n",
    "        positions = torch.randn(_n, _d)\n",
    "        timing_stats.append({\n",
    "            'n':_n,\n",
    "            'd':_d,\n",
    "            'method': method,\n",
    "            'ts': measure_execution_time(fun, args=(positions,), \n",
    "                                         kwargs=dict(method=method),\n",
    "                                         repetitions=reps,\n",
    "                                         number=number)\n",
    "        })\n",
    "    return pd.DataFrame(timing_stats)"
   ]
  },
  {
   "cell_type": "code",
   "execution_count": null,
   "metadata": {},
   "outputs": [],
   "source": [
    "# number of positions\n",
    "n = [10, 100, 1000]\n",
    "# number of dimensions\n",
    "d = [2, 3, 10]"
   ]
  },
  {
   "cell_type": "code",
   "execution_count": null,
   "metadata": {},
   "outputs": [],
   "source": [
    "%%time\n",
    "timing_stats = get_time_stats(pdist, n, d)"
   ]
  },
  {
   "cell_type": "code",
   "execution_count": null,
   "metadata": {},
   "outputs": [],
   "source": [
    "timing_stats.head()"
   ]
  },
  {
   "cell_type": "code",
   "execution_count": null,
   "metadata": {},
   "outputs": [],
   "source": [
    "timing_stats_e = timing_stats.explode('ts')"
   ]
  },
  {
   "cell_type": "code",
   "execution_count": null,
   "metadata": {},
   "outputs": [],
   "source": [
    "n_filter = 1000\n",
    "d_filter = 3"
   ]
  },
  {
   "cell_type": "code",
   "execution_count": null,
   "metadata": {},
   "outputs": [],
   "source": [
    "mask_n = timing_stats['n'] == n_filter\n",
    "mask_d = timing_stats['d'] == d_filter"
   ]
  },
  {
   "cell_type": "code",
   "execution_count": null,
   "metadata": {},
   "outputs": [],
   "source": [
    "px.scatter(timing_stats_e.loc[mask_d], x='n', y='ts', color='method',\n",
    "           title=f'Performance @ {d_filter} dims')"
   ]
  },
  {
   "cell_type": "code",
   "execution_count": null,
   "metadata": {},
   "outputs": [],
   "source": [
    "px.scatter(timing_stats_e.loc[mask_n], x='d', y='ts', color='method',\n",
    "           title=f'Performance @ {n_filter} samples')"
   ]
  },
  {
   "cell_type": "markdown",
   "metadata": {},
   "source": [
    "The following is based on stackexchange:\n",
    "- [answer1](https://math.stackexchange.com/questions/2134011/conversion-of-upper-triangle-linear-index-from-index-on-symmetrical-array)\n",
    "- [answer2](https://stackoverflow.com/questions/19143657/linear-indexing-in-symmetric-matrices)"
   ]
  },
  {
   "cell_type": "code",
   "execution_count": null,
   "metadata": {},
   "outputs": [],
   "source": [
    "#export\n",
    "class DistanceMatrixIndexMapper:\n",
    "    \n",
    "    ix_fun = lambda self, i, j, n: int(n*i -.5*i*(i+1) + j)\n",
    "    i_fun = lambda self, x, n: int(math.floor((2*n+1 - math.sqrt((2*n+1)**2 - 8*x))*.5))\n",
    "    j_fun = lambda self, x, i, n: int(x - (n*i -.5*i*(i+1)))\n",
    "\n",
    "    def __init__(self,num_pos:int):\n",
    "        self.num_pos = num_pos\n",
    "    \n",
    "    def __call__(self,i:int, direction:str, j:int=None):\n",
    "        return getattr(self, direction)(i,j)\n",
    "    \n",
    "    def brute_force_square2flat(self, i:int, j:int):\n",
    "        if i > j: i, j = j, i\n",
    "        self._check_ix_map()\n",
    "        return self.ix_map[i,j]\n",
    "        \n",
    "    def _check_ix_map(self):\n",
    "        if not hasattr(self, 'ix_map'):\n",
    "            self.ix_map = {ix: i for i, ix in enumerate(itertools.combinations_with_replacement(range(self.num_pos), r=2))}\n",
    "        \n",
    "    def brute_force_flat2square(self, ix:int, j:int=None):\n",
    "        self._check_ix_map_inv()\n",
    "        return self.ix_map_inv[ix]\n",
    "    \n",
    "    def _check_ix_map_inv(self):\n",
    "        self._check_ix_map()\n",
    "        if not hasattr(self, 'ix_map_inv'):\n",
    "            self.ix_map_inv = {i: ix for ix, i in self.ix_map.items()}\n",
    "    \n",
    "    def analytical_square2flat(self, i:int, j:int):\n",
    "        if i > j: i, j = j, i\n",
    "        return self.ix_fun(i, j, self.num_pos)\n",
    "    \n",
    "    def analytical_flat2square(self, ix:int, j:int=None):\n",
    "        return (i := self.i_fun(ix, self.num_pos)), (self.j_fun(ix, i, self.num_pos))\n"
   ]
  },
  {
   "cell_type": "code",
   "execution_count": null,
   "metadata": {},
   "outputs": [],
   "source": [
    "i = 0\n",
    "j = 1\n",
    "ix = 1\n",
    "\n",
    "num_pos = len(positions)"
   ]
  },
  {
   "cell_type": "code",
   "execution_count": null,
   "metadata": {},
   "outputs": [],
   "source": [
    "dmap = DistanceMatrixIndexMapper(num_pos)"
   ]
  },
  {
   "cell_type": "markdown",
   "metadata": {},
   "source": [
    "Square $(i,j) \\rightarrow ix$ flat"
   ]
  },
  {
   "cell_type": "code",
   "execution_count": null,
   "metadata": {},
   "outputs": [],
   "source": [
    "dmap(i,'brute_force_square2flat', j)"
   ]
  },
  {
   "cell_type": "code",
   "execution_count": null,
   "metadata": {},
   "outputs": [],
   "source": [
    "dmap(i,'analytical_square2flat', j)"
   ]
  },
  {
   "cell_type": "code",
   "execution_count": null,
   "metadata": {},
   "outputs": [],
   "source": [
    "#hide\n",
    "%timeit dmap(i,'brute_force_square2flat', j)"
   ]
  },
  {
   "cell_type": "code",
   "execution_count": null,
   "metadata": {},
   "outputs": [],
   "source": [
    "#hide\n",
    "%timeit dmap(i,'analytical_square2flat', j)"
   ]
  },
  {
   "cell_type": "markdown",
   "metadata": {},
   "source": [
    "Flat $ix \\rightarrow (i,j)$ square"
   ]
  },
  {
   "cell_type": "code",
   "execution_count": null,
   "metadata": {},
   "outputs": [],
   "source": [
    "dmap(ix,'brute_force_flat2square')"
   ]
  },
  {
   "cell_type": "code",
   "execution_count": null,
   "metadata": {},
   "outputs": [],
   "source": [
    "dmap(ix,'analytical_flat2square')"
   ]
  },
  {
   "cell_type": "code",
   "execution_count": null,
   "metadata": {},
   "outputs": [],
   "source": [
    "#hide\n",
    "%timeit dmap(ix,'brute_force_flat2square')"
   ]
  },
  {
   "cell_type": "code",
   "execution_count": null,
   "metadata": {},
   "outputs": [],
   "source": [
    "#hide\n",
    "%timeit dmap(ix,'analytical_flat2square')"
   ]
  },
  {
   "cell_type": "markdown",
   "metadata": {},
   "source": [
    "So the analytical version is quite a bit slower, but on the other hand does not have a memory scaling to consider, in contrast to the brute force variant"
   ]
  },
  {
   "cell_type": "markdown",
   "metadata": {},
   "source": [
    "Performing sanity checks"
   ]
  },
  {
   "cell_type": "code",
   "execution_count": null,
   "metadata": {},
   "outputs": [],
   "source": [
    "#hide\n",
    "%%time\n",
    "df = pd.DataFrame([[ix, i, j] for ix, (i,j) in enumerate(zip(*np.triu_indices(num_pos, k=0)))],\n",
    "                  columns=['ix', 'i', 'j'])\n",
    "\n",
    "for method in ['brute_force', 'analytical']:\n",
    "    df_test = pd.DataFrame(columns=['ix','i','j'], dtype=int)\n",
    "    df_test['i'], df_test['j'] = list(zip(*df.apply(lambda x: dmap(x['ix'], 'analytical_flat2square'), axis=1).values))\n",
    "    df_test['ix'] = df.apply(lambda x: dmap(x['i'], 'analytical_square2flat', x['j']), axis=1).values\n",
    "\n",
    "    assert df_test.equals(df), f'{method}: failed! `df` {df}\\n!=\\n`df_test` {df_test}'"
   ]
  },
  {
   "cell_type": "markdown",
   "metadata": {},
   "source": [
    "Visualising the correct and the calculated (`-fun`) maps"
   ]
  },
  {
   "cell_type": "code",
   "execution_count": null,
   "metadata": {},
   "outputs": [],
   "source": [
    "go.Figure(data=[\n",
    "    go.Scatter(x=df['ix'], y=df['ix'], mode='markers', name='ix'),\n",
    "    go.Scatter(x=df_test['ix'], y=df_test['ix'], mode='markers', \n",
    "               marker_symbol='x-open', name='ix-fun'),\n",
    "],\n",
    "         layout=go.Layout(title=f'Positions: {num_pos}', \n",
    "                          xaxis_title='ix', yaxis_title='calculated'))"
   ]
  },
  {
   "cell_type": "code",
   "execution_count": null,
   "metadata": {},
   "outputs": [],
   "source": [
    "go.Figure(data=[\n",
    "    go.Scatter(x=df['ix'], y=df['i'], mode='markers', name='i'),\n",
    "    go.Scatter(x=df['ix'], y=df['j'], mode='markers', name='j'),\n",
    "    go.Scatter(x=df_test['ix'], y=df_test['i'], mode='markers', \n",
    "               marker_symbol='x-open', name='i-fun'),\n",
    "    go.Scatter(x=df_test['ix'], y=df_test['j'], mode='markers', \n",
    "               marker_symbol='x-open', name='j-fun'),\n",
    "],\n",
    "         layout=go.Layout(title=f'Positions: {num_pos}', \n",
    "                          xaxis_title='ix', yaxis_title='calculated'))"
   ]
  },
  {
   "cell_type": "code",
   "execution_count": null,
   "metadata": {},
   "outputs": [],
   "source": []
  }
 ],
 "metadata": {
  "kernelspec": {
   "display_name": "Python [conda env:py38_md]",
   "language": "python",
   "name": "conda-env-py38_md-py"
  }
 },
 "nbformat": 4,
 "nbformat_minor": 2
}
